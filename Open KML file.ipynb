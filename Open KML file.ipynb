{
 "cells": [
  {
   "cell_type": "code",
   "execution_count": 4,
   "id": "63b4b1ab",
   "metadata": {},
   "outputs": [],
   "source": [
    "import pandas as pd\n",
    "import simplekml"
   ]
  },
  {
   "cell_type": "code",
   "execution_count": 7,
   "id": "b289dd27",
   "metadata": {},
   "outputs": [
    {
     "ename": "AttributeError",
     "evalue": "'Kml' object has no attribute 'from_string'",
     "output_type": "error",
     "traceback": [
      "\u001b[0;31m---------------------------------------------------------------------------\u001b[0m",
      "\u001b[0;31mAttributeError\u001b[0m                            Traceback (most recent call last)",
      "Cell \u001b[0;32mIn[7], line 3\u001b[0m\n\u001b[1;32m      1\u001b[0m kml \u001b[38;5;241m=\u001b[39m simplekml\u001b[38;5;241m.\u001b[39mKml()\n\u001b[1;32m      2\u001b[0m \u001b[38;5;28;01mwith\u001b[39;00m \u001b[38;5;28mopen\u001b[39m(\u001b[38;5;124m'\u001b[39m\u001b[38;5;124mBART_System_2020.kmz\u001b[39m\u001b[38;5;124m'\u001b[39m, \u001b[38;5;124m'\u001b[39m\u001b[38;5;124mrb\u001b[39m\u001b[38;5;124m'\u001b[39m) \u001b[38;5;28;01mas\u001b[39;00m f:\n\u001b[0;32m----> 3\u001b[0m     \u001b[43mkml\u001b[49m\u001b[38;5;241;43m.\u001b[39;49m\u001b[43mfrom_string\u001b[49m(f\u001b[38;5;241m.\u001b[39mread())\n\u001b[1;32m      5\u001b[0m \u001b[38;5;66;03m# You can now access the KML data and work with it in your Python code. For example:\u001b[39;00m\n\u001b[1;32m      6\u001b[0m \u001b[38;5;28;01mfor\u001b[39;00m feature \u001b[38;5;129;01min\u001b[39;00m kml\u001b[38;5;241m.\u001b[39mfeatures():\n",
      "\u001b[0;31mAttributeError\u001b[0m: 'Kml' object has no attribute 'from_string'"
     ]
    }
   ],
   "source": [
    "kml = simplekml.Kml()\n",
    "with open('BART_System_2020.kmz', 'rb') as f:\n",
    "    kml.from_string(f.read())\n",
    "\n",
    "# You can now access the KML data and work with it in your Python code. For example:\n",
    "for feature in kml.features():\n",
    "    if isinstance(feature, simplekml.Point):\n",
    "        print(feature.name)\n",
    "        lat, lon, alt = feature.geometry().get_coordinates()\n",
    "        print(f\"Latitude: {lat}, Longitude: {lon}, Altitude: {alt}\")\n",
    "\n"
   ]
  },
  {
   "cell_type": "code",
   "execution_count": null,
   "id": "0eb084c5",
   "metadata": {},
   "outputs": [],
   "source": []
  }
 ],
 "metadata": {
  "kernelspec": {
   "display_name": "Python 3 (ipykernel)",
   "language": "python",
   "name": "python3"
  },
  "language_info": {
   "codemirror_mode": {
    "name": "ipython",
    "version": 3
   },
   "file_extension": ".py",
   "mimetype": "text/x-python",
   "name": "python",
   "nbconvert_exporter": "python",
   "pygments_lexer": "ipython3",
   "version": "3.11.3"
  }
 },
 "nbformat": 4,
 "nbformat_minor": 5
}
